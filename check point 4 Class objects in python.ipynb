{
 "cells": [
  {
   "cell_type": "markdown",
   "id": "48de5358",
   "metadata": {},
   "source": [
    "question N1 :"
   ]
  },
  {
   "cell_type": "code",
   "execution_count": null,
   "id": "432962e1",
   "metadata": {},
   "outputs": [],
   "source": [
    "class Point3D :\n",
    "    def __init__(self,x,y,z):\n",
    "        self.x=x\n",
    "        self.y=y\n",
    "        self.z=z\n",
    "    def func (self):\n",
    "        return (\"{},{},{}\".format(self.x, self.y, self.z))\n",
    "my_point=Point3D(1,2,3)\n",
    "print(my_point.func())"
   ]
  },
  {
   "cell_type": "markdown",
   "id": "c74ba267",
   "metadata": {},
   "source": [
    "question N2 :"
   ]
  },
  {
   "cell_type": "code",
   "execution_count": null,
   "id": "84f2dfa2",
   "metadata": {},
   "outputs": [],
   "source": [
    "class rectangle :\n",
    "    def __init__(self,length,width):\n",
    "        self.length=length\n",
    "        self.width=width\n",
    "    def area (self):\n",
    "        area =self.length*self.width\n",
    "        return area\n",
    "    def perimeter (self):\n",
    "        perimeter =2*(self.length+self.width)\n",
    "        return perimeter\n",
    "my_rectangle=rectangle(4,3)\n",
    "print(\"area =\",my_rectangle.area())\n",
    "print(\"peremiter =\",my_rectangle.perimeter())"
   ]
  },
  {
   "cell_type": "markdown",
   "id": "18ac1e1d",
   "metadata": {},
   "source": [
    "question N3 :"
   ]
  },
  {
   "cell_type": "code",
   "execution_count": null,
   "id": "b6d0193c",
   "metadata": {},
   "outputs": [],
   "source": [
    "from math import *\n",
    "class cercle :\n",
    "    def __init__(self,radius):\n",
    "        self.radius=radius\n",
    "        \n",
    "    def area(self):\n",
    "        return self.radius**2*pi\n",
    "    \n",
    "    def perimeter(self):\n",
    "        return 2*self.radius*pi\n",
    "    \n",
    "    def ininside(self,Xo,Yo,Xa,Ya):\n",
    "        o=(Xo , Yo)\n",
    "        a=(Xa , Ya)\n",
    "        distance=sqrt((o[0]-a[0])**2+(o[1]-a[1])**2)\n",
    "        if distance <= self.radius :\n",
    "            return(\"a belongs to the circle\")\n",
    "        else :\n",
    "            return(\"a dosen't belong to the cercle\")\n",
    "Xo=int(input(\"Xo =\"))\n",
    "Yo=int(input(\"Yo =\"))\n",
    "Xa=int(input(\"Xa =\"))\n",
    "Ya=int(input(\"Ya =\"))\n",
    "r=int(input(\"radius = \"))\n",
    "Circle = cercle(r)\n",
    "print(\"area = \",Circle.area())\n",
    "print(\"perimeter=\",Circle.perimeter())\n",
    "print(Circle.ininside(Xo,Yo,Xa,Ya))\n"
   ]
  },
  {
   "cell_type": "markdown",
   "id": "fba03708",
   "metadata": {},
   "source": [
    "question N4 :"
   ]
  },
  {
   "cell_type": "code",
   "execution_count": 21,
   "id": "3904cd7c",
   "metadata": {},
   "outputs": [
    {
     "name": "stdout",
     "output_type": "stream",
     "text": [
      "enter your balance1000\n",
      "Enter amount to be Deposited: 500\n",
      "\n",
      " Amount Deposited: 500.0\n",
      "Enter amount to be Withdrawn: 300\n",
      "\n",
      " You Withdrew: 300.0\n",
      "\n",
      " Net Available Balance= 1200.0\n"
     ]
    }
   ],
   "source": [
    "class Bank_Account:\n",
    "    def __init__(self):\n",
    "        self.balance = int(input(\"enter your balance\"))\n",
    "    def deposit(self):\n",
    "        amount=float(input(\"Enter amount to be Deposited: \"))\n",
    "        self.balance += amount\n",
    "        print(\"\\n Amount Deposited:\",amount)\n",
    "\n",
    "    def withdraw(self):\n",
    "        amount = float(input(\"Enter amount to be Withdrawn: \"))\n",
    "        if self.balance>=amount:\n",
    "            self.balance-=amount\n",
    "            print(\"\\n You Withdrew:\", amount)\n",
    "        else:\n",
    "            print(\"\\n Insufficient balance \")\n",
    "    def net_balance(self):\n",
    "        print(\"\\n Net Available Balance=\",self.balance)\n",
    "balance = Bank_Account()\n",
    "balance.deposit()\n",
    "balance.withdraw()\n",
    "balance.net_balance()"
   ]
  },
  {
   "cell_type": "code",
   "execution_count": null,
   "id": "6c9e749b",
   "metadata": {},
   "outputs": [],
   "source": []
  }
 ],
 "metadata": {
  "kernelspec": {
   "display_name": "Python 3",
   "language": "python",
   "name": "python3"
  },
  "language_info": {
   "codemirror_mode": {
    "name": "ipython",
    "version": 3
   },
   "file_extension": ".py",
   "mimetype": "text/x-python",
   "name": "python",
   "nbconvert_exporter": "python",
   "pygments_lexer": "ipython3",
   "version": "3.8.8"
  }
 },
 "nbformat": 4,
 "nbformat_minor": 5
}
